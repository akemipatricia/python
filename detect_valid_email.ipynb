{
 "cells": [
  {
   "cell_type": "markdown",
   "id": "a325673d",
   "metadata": {},
   "source": [
    "## Define variable"
   ]
  },
  {
   "cell_type": "code",
   "execution_count": 24,
   "id": "64c9a956",
   "metadata": {},
   "outputs": [],
   "source": [
    "import pandas as pd\n",
    "import os\n",
    "from unidecode import unidecode\n",
    "import re\n",
    "import chardet\n",
    "from datetime import datetime\n",
    "\n",
    "file_path = os.getcwd()\n",
    "\n",
    "class repair_emails:\n",
    "    def __init__(self):\n",
    "        self.dd = None\n",
    "        self.file = None\n",
    "        self.valid_emails = None\n",
    "        self.invalid_emails = None\n",
    "\n",
    "    def get_file_path(self, vFile_path):\n",
    "        \n",
    "        '''\n",
    "        Get the path of the first csv file in the specified directory.\n",
    "        Args: \n",
    "            vFile_path (str): The path of the directory to search for CSV files.\n",
    "        Returns:\n",
    "            self.file (str): the full name of the file\n",
    "        '''\n",
    "        \n",
    "        if os.path.exists(vFile_path):\n",
    "            csv_files = [x for x in os.listdir(vFile_path) if x.endswith('.csv')]\n",
    "            if csv_files:\n",
    "                self.file = os.path.join(vFile_path, csv_files[0])\n",
    "            else:\n",
    "                print('There are no CSV files in the directory.')\n",
    "        else:\n",
    "            print('Path does not exist.')\n",
    "\n",
    "        print('--- Identified file:\\n' + self.file)\n",
    "\n",
    "    def load_csv(self):\n",
    "        \n",
    "        '''\n",
    "        Read this file, make replacement changes in Email column.\n",
    "        Args: \n",
    "            self.file (str): the full name of the file\n",
    "        Returns:\n",
    "            self.dd (dataframe): with updated infos about email\n",
    "        '''\n",
    "        \n",
    "        self.dd = pd.read_csv(self.file, sep=';', encoding='latin-1', dtype=object)\n",
    "        self.dd['email'] = self.dd['email'].str.replace(' ', '').str.replace('ï¿½', 'ç').str.replace('@gmailcom', '@gmail.com')\n",
    "        print('Dataframe loaded in: ' + self.file)\n",
    "\n",
    "    def split_valid_emails(self, email_column):\n",
    "        \n",
    "        \"\"\"\n",
    "        Args:\n",
    "        dataframe (pd.DataFrame): original dataframe.\n",
    "        email_column (str): columns with email.\n",
    "\n",
    "        Returns:\n",
    "        (pd.DataFrame, pd.DataFrame): A tuple containing two DataFrames: one with valid emails and one with invalid emails.\n",
    "        \"\"\"\n",
    "        \n",
    "        # Regular expression pattern to validate email addresses\n",
    "        email_pattern = r'^[\\w\\.-]+@[\\w\\.-]+\\.\\w+$'\n",
    "\n",
    "        # Use regular expression to filter valid and invalid emails\n",
    "        self.valid_emails = self.dd[self.dd[email_column].str.match(email_pattern, na=False)]\n",
    "        self.invalid_emails = self.dd[~self.dd[email_column].str.match(email_pattern, na=False)]\n",
    "\n",
    "        return print('--- Generated two dataframes.') # valid_emails, invalid_emails\n",
    "\n",
    "    \n",
    "    def save_file(self):\n",
    "        \n",
    "        # file name\n",
    "        current_datetime = datetime.now()\n",
    "        formatted_datetime = current_datetime.strftime(\"%Y%m%d\")\n",
    "        file_name = f\"{formatted_datetime}_Base_Newsletter_Estabs.csv\"\n",
    "        invalid_file_name = f\"{formatted_datetime}_invalid_emails.csv\"\n",
    "        \n",
    "        # save files\n",
    "        self.valid_emails.to_csv(file_name,sep=';',index=False)\n",
    "        self.invalid_emails.to_csv(invalid_file_name,sep=';',index=False)\n",
    "        \n",
    "        # save files in sharepoint\n",
    "#         file_sharep = 'C:\\\\Users\\\\patricia.dasilva.ext\\\\SODEXO\\\\Digital - Bases\\\\Merchant\\\\Envio\\\\' + file_name\n",
    "#         self.valid_emails.to_csv(file_sharep,sep=';',index=False)\n",
    "        \n",
    "        return print('--- Saved!')"
   ]
  },
  {
   "cell_type": "markdown",
   "id": "e69a59e1",
   "metadata": {},
   "source": [
    "## Run function"
   ]
  },
  {
   "cell_type": "code",
   "execution_count": 25,
   "id": "9c46cb87",
   "metadata": {},
   "outputs": [
    {
     "name": "stdout",
     "output_type": "stream",
     "text": [
      "--- Identified file:\n",
      "C:\\Users\\patricia.dasilva.ext\\SODEXO\\Data Operations - General\\Chamados\\Recorrências\\Mailling Recorrente (Mensal) - Base Newsletter  Estabelecimentos\\20231003_Base_Newsletter_Estabs.csv\n",
      "Dataframe loaded in: C:\\Users\\patricia.dasilva.ext\\SODEXO\\Data Operations - General\\Chamados\\Recorrências\\Mailling Recorrente (Mensal) - Base Newsletter  Estabelecimentos\\20231003_Base_Newsletter_Estabs.csv\n",
      "--- Generated two dataframes.\n",
      "--- Saved!\n"
     ]
    }
   ],
   "source": [
    "RunRepair_emails = repair_emails()\n",
    "RunRepair_emails.get_file_path(file_path)\n",
    "RunRepair_emails.load_csv()\n",
    "RunRepair_emails.split_valid_emails('email')\n",
    "RunRepair_emails.save_file()"
   ]
  }
 ],
 "metadata": {
  "kernelspec": {
   "display_name": "Python 3 (ipykernel)",
   "language": "python",
   "name": "python3"
  },
  "language_info": {
   "codemirror_mode": {
    "name": "ipython",
    "version": 3
   },
   "file_extension": ".py",
   "mimetype": "text/x-python",
   "name": "python",
   "nbconvert_exporter": "python",
   "pygments_lexer": "ipython3",
   "version": "3.11.4"
  }
 },
 "nbformat": 4,
 "nbformat_minor": 5
}
