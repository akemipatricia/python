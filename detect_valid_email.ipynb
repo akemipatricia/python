{
 "cells": [
  {
   "cell_type": "markdown",
   "id": "a325673d",
   "metadata": {},
   "source": [
    "## Define variable"
   ]
  },
  {
   "cell_type": "code",
   "execution_count": 1,
   "id": "64c9a956",
   "metadata": {},
   "outputs": [],
   "source": [
    "import pandas as pd\n",
    "import os\n",
    "from unidecode import unidecode\n",
    "import re\n",
    "import chardet\n",
    "from datetime import datetime\n",
    "\n",
    "file_path = os.getcwd()\n",
    "\n",
    "class repair_emails:\n",
    "    def __init__(self):\n",
    "        self.dd = None\n",
    "        self.file = None\n",
    "        self.valid_emails = None\n",
    "        self.invalid_emails = None\n",
    "\n",
    "    def get_file_path(self, vFile_path):\n",
    "        \n",
    "        '''\n",
    "        Get the path of the first csv file in the specified directory.\n",
    "        Args: \n",
    "            vFile_path (str): The path of the directory to search for CSV files.\n",
    "        Returns:\n",
    "            self.file (str): the full name of the file\n",
    "        '''\n",
    "        \n",
    "        if os.path.exists(vFile_path):\n",
    "            csv_files = [x for x in os.listdir(vFile_path) if x.endswith('.csv')]\n",
    "            if csv_files:\n",
    "                self.file = os.path.join(vFile_path, csv_files[0])\n",
    "            else:\n",
    "                print('There are no CSV files in the directory.')\n",
    "        else:\n",
    "            print('Path does not exist.')\n",
    "\n",
    "        print('--- Identified file:\\n' + self.file)\n",
    "\n",
    "    def load_csv(self):\n",
    "        \n",
    "        '''\n",
    "        Read this file, make replacement changes in Email column.\n",
    "        Args: \n",
    "            self.file (str): the full name of the file\n",
    "        Returns:\n",
    "            self.dd (dataframe): with updated infos about email\n",
    "        '''\n",
    "        \n",
    "        self.dd = pd.read_csv(self.file, sep=';', encoding='latin-1', dtype=object)\n",
    "        self.dd['email'] = self.dd['email'].str.replace(' ', '').str.replace('ï¿½', 'ç').str.replace('@gmailcom', '@gmail.com')\n",
    "        print('Dataframe loaded in: ' + self.file)\n",
    "\n",
    "    def split_valid_emails(self, email_column):\n",
    "        \n",
    "        \"\"\"\n",
    "        Args:\n",
    "        dataframe (pd.DataFrame): original dataframe.\n",
    "        email_column (str): columns with email.\n",
    "\n",
    "        Returns:\n",
    "        (pd.DataFrame, pd.DataFrame): A tuple containing two DataFrames: one with valid emails and one with invalid emails.\n",
    "        \"\"\"\n",
    "        \n",
    "        # Regular expression pattern to validate email addresses\n",
    "        email_pattern = r'^[\\w\\.-]+@[\\w\\.-]+\\.\\w+$'\n",
    "\n",
    "        # Use regular expression to filter valid and invalid emails\n",
    "        self.valid_emails = self.dd[self.dd[email_column].str.match(email_pattern, na=False)]\n",
    "        self.invalid_emails = self.dd[~self.dd[email_column].str.match(email_pattern, na=False)]\n",
    "\n",
    "        return print('--- Generated two dataframes.') # valid_emails, invalid_emails\n",
    "\n",
    "    \n",
    "    def save_file(self):\n",
    "        \n",
    "        # file name\n",
    "        current_datetime = datetime.now()\n",
    "        formatted_datetime = current_datetime.strftime(\"%Y%m%d\")\n",
    "        file_name = f\"{formatted_datetime}_Base.csv\"\n",
    "        invalid_file_name = f\"{formatted_datetime}_invalid_emails.csv\"\n",
    "        \n",
    "        # save files\n",
    "        self.valid_emails.to_csv(file_name,sep=';',index=False)\n",
    "        self.invalid_emails.to_csv(invalid_file_name,sep=';',index=False)\n",
    "        \n",
    "        \n",
    "        return print('--- Saved!')"
   ]
  },
  {
   "cell_type": "markdown",
   "id": "e69a59e1",
   "metadata": {},
   "source": [
    "## Run function\n",
    "There are errors belows because details about address here were deleted."
   ]
  },
  {
   "cell_type": "code",
   "execution_count": 2,
   "id": "9c46cb87",
   "metadata": {},
   "outputs": [
    {
     "name": "stdout",
     "output_type": "stream",
     "text": [
      "There are no CSV files in the directory.\n"
     ]
    },
    {
     "ename": "TypeError",
     "evalue": "can only concatenate str (not \"NoneType\") to str",
     "output_type": "error",
     "traceback": [
      "\u001b[1;31m---------------------------------------------------------------------------\u001b[0m",
      "\u001b[1;31mTypeError\u001b[0m                                 Traceback (most recent call last)",
      "Cell \u001b[1;32mIn[2], line 2\u001b[0m\n\u001b[0;32m      1\u001b[0m RunRepair_emails \u001b[38;5;241m=\u001b[39m repair_emails()\n\u001b[1;32m----> 2\u001b[0m RunRepair_emails\u001b[38;5;241m.\u001b[39mget_file_path(file_path)\n\u001b[0;32m      3\u001b[0m RunRepair_emails\u001b[38;5;241m.\u001b[39mload_csv()\n\u001b[0;32m      4\u001b[0m RunRepair_emails\u001b[38;5;241m.\u001b[39msplit_valid_emails(\u001b[38;5;124m'\u001b[39m\u001b[38;5;124memail\u001b[39m\u001b[38;5;124m'\u001b[39m)\n",
      "Cell \u001b[1;32mIn[1], line 36\u001b[0m, in \u001b[0;36mrepair_emails.get_file_path\u001b[1;34m(self, vFile_path)\u001b[0m\n\u001b[0;32m     33\u001b[0m \u001b[38;5;28;01melse\u001b[39;00m:\n\u001b[0;32m     34\u001b[0m     \u001b[38;5;28mprint\u001b[39m(\u001b[38;5;124m'\u001b[39m\u001b[38;5;124mPath does not exist.\u001b[39m\u001b[38;5;124m'\u001b[39m)\n\u001b[1;32m---> 36\u001b[0m \u001b[38;5;28mprint\u001b[39m(\u001b[38;5;124m'\u001b[39m\u001b[38;5;124m--- Identified file:\u001b[39m\u001b[38;5;130;01m\\n\u001b[39;00m\u001b[38;5;124m'\u001b[39m \u001b[38;5;241m+\u001b[39m \u001b[38;5;28mself\u001b[39m\u001b[38;5;241m.\u001b[39mfile)\n",
      "\u001b[1;31mTypeError\u001b[0m: can only concatenate str (not \"NoneType\") to str"
     ]
    }
   ],
   "source": [
    "RunRepair_emails = repair_emails()\n",
    "RunRepair_emails.get_file_path(file_path)\n",
    "RunRepair_emails.load_csv()\n",
    "RunRepair_emails.split_valid_emails('email')\n",
    "RunRepair_emails.save_file()"
   ]
  }
 ],
 "metadata": {
  "kernelspec": {
   "display_name": "Python 3 (ipykernel)",
   "language": "python",
   "name": "python3"
  },
  "language_info": {
   "codemirror_mode": {
    "name": "ipython",
    "version": 3
   },
   "file_extension": ".py",
   "mimetype": "text/x-python",
   "name": "python",
   "nbconvert_exporter": "python",
   "pygments_lexer": "ipython3",
   "version": "3.11.4"
  }
 },
 "nbformat": 4,
 "nbformat_minor": 5
}
